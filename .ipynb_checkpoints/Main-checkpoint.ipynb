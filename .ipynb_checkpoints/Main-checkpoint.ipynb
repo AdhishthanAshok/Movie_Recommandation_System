{
 "cells": [
  {
   "cell_type": "code",
   "execution_count": 1,
   "id": "3e857d33-23ce-434a-991a-88255b6e68a7",
   "metadata": {},
   "outputs": [],
   "source": [
    "import pandas as pd"
   ]
  },
  {
   "cell_type": "code",
   "execution_count": null,
   "id": "0d2dd1db-e4bb-4fe4-a34f-61d41acd9148",
   "metadata": {},
   "outputs": [],
   "source": []
  }
 ],
 "metadata": {
  "kernelspec": {
   "display_name": "Python 3 (ipykernel)",
   "language": "python",
   "name": "python3"
  },
  "language_info": {
   "codemirror_mode": {
    "name": "ipython",
    "version": 3
   },
   "file_extension": ".py",
   "mimetype": "text/x-python",
   "name": "python",
   "nbconvert_exporter": "python",
   "pygments_lexer": "ipython3",
   "version": "3.11.1"
  }
 },
 "nbformat": 4,
 "nbformat_minor": 5
}
